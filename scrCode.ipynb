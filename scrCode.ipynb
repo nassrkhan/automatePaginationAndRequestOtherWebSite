{
 "cells": [
  {
   "cell_type": "code",
   "execution_count": null,
   "metadata": {},
   "outputs": [],
   "source": [
    "pip install beautifulsoup4"
   ]
  },
  {
   "cell_type": "code",
   "execution_count": null,
   "metadata": {},
   "outputs": [],
   "source": [
    "pip install requests"
   ]
  },
  {
   "cell_type": "code",
   "execution_count": 113,
   "metadata": {},
   "outputs": [
    {
     "name": "stdout",
     "output_type": "stream",
     "text": [
      "['https://watchcollectors.co.uk/products/choaprd', 'https://watchcollectors.co.uk/products/louis-vuitton-ref-tambour-xl-minute-repeater-travel-time-18k-rose-gold-box-papers', 'https://watchcollectors.co.uk/products/rolex-lady-datejust-pearlmaster-ref-69298-white-mother-of-pearl-diamond-dial-18k-yellow-gold', 'https://watchcollectors.co.uk/products/rolex-yacht-master-40-ref-126622-slate-dial-box-papers-2021-stainless-steel-platinum', 'https://watchcollectors.co.uk/products/audemars-piguet-royal-oak-chronograph-ref-26603st-oo-d002cr-01000-blue-dial-box-papers-2010-stainless-steel', 'https://watchcollectors.co.uk/products/rolex-daytona-ref-116520-black-dial-2012-box-papers-stainless-steel-1', 'https://watchcollectors.co.uk/products/rolex-daytona-beach-blue-ref-116509-18k-white-gold-2007', 'https://watchcollectors.co.uk/products/vacheron-constantin-malte-chronograph-ref-49180-champagne-dial-40mm-18k-rose-gold', 'https://watchcollectors.co.uk/products/cartier-tank-americaine-chronograph-ref-2892-automatic-31mm-18k-yellow-gold', 'https://watchcollectors.co.uk/products/cartier-tank-americaine-chronograph-ref-3072-automatic-31mm-18k-rose-gold', 'https://watchcollectors.co.uk/products/cartier-tank-americaine-ref-2927-automatic-31mm-18k-rose-gold', 'https://watchcollectors.co.uk/products/cartier-tank-americaine-chronograph-ref-3073-automatic-31mm-18k-white-gold', 'https://watchcollectors.co.uk/products/cartier-tank-americaine-ref-2928-automatic-31mm-18k-white-gold', 'https://watchcollectors.co.uk/products/breguet-ref-5327-18k-white-gold-box-papers', 'https://watchcollectors.co.uk/products/cartier-cougar-ref-387907-art-deco-mother-of-pearl-dial-diamond-bezel-shoulders-26mm-18k-yellow-gold', 'https://watchcollectors.co.uk/products/cartier-panthere-ref-8057915-cream-diamond-dial-diamond-bezel-bracelet-22mm-18k-yellow-gold', 'https://watchcollectors.co.uk/products/cartier-panthere-ref-1280-2-diamond-dial-bezel-bracelet-22mm-18k-yellow-gold', 'https://watchcollectors.co.uk/products/rolex-daytona-ref-116509-silver-dial-18k-white-gold-2020-box-papers-1', 'https://watchcollectors.co.uk/products/patek-philippe-calatrava-ref-3514-1966-silvered-dial-18k-yellow-gold', 'https://watchcollectors.co.uk/products/patek-philippe-ref-3514-silvered-dial-18k-yellow-gold', 'https://watchcollectors.co.uk/products/audemars-piguet-edward-piguet-ref-15121or-o-0002cr-01-18k-rose-gold-box-papesr', 'https://watchcollectors.co.uk/products/patek-philippe-annual-calendar-ref-5035j-001-18k-yellow-gold-box-papers-2003-white-dial', 'https://watchcollectors.co.uk/products/cartier-paris-torteau-collection-privee-ref-2518e-platinum-34mm', 'https://watchcollectors.co.uk/products/rolex-daytona-ref-116528-white-dial-box-papers-18k-yellow-gold-2014', 'https://watchcollectors.co.uk/products/rolex-date-ref-15238-18k-yellow-gold-blue-dial', 'https://watchcollectors.co.uk/products/ralph-lauren-ref-887901-18k-white-gold-29mm', 'https://watchcollectors.co.uk/products/cartier-santos-galbee-ref-2351-18k-yellow-gold-29mm', 'https://watchcollectors.co.uk/products/vacheron-constantin-ref-37150-000p-4-platinum-day-month-moonphase-box-papers-1999', 'https://watchcollectors.co.uk/products/rolex-sea-dweller-ref-116600-black-dial-box-papers-2015-rolex-service-papers-2023-stainless-steel', 'https://watchcollectors.co.uk/products/patek-philippe-tonneau-jump-hour-150th-anniversay-ref-3969-18k-rose-gold-box-papers-1989-cream-dial', 'https://watchcollectors.co.uk/products/rolex-explorer-ii-ref-1655-steve-mcqueen-stainless-steel-service-papers-2017', 'https://watchcollectors.co.uk/products/franck-muller-39-double-mystery-dcd-1r-18k-white-gold-pave-diamond-sapphires-1', 'https://watchcollectors.co.uk/products/patek-philippe-twenty-4-ref-4910-10a-011-stainless-steel-diamond-dial-bezel-1', 'https://watchcollectors.co.uk/products/patek-philippe-5035j-001', 'https://watchcollectors.co.uk/products/breguet-ladies-wristwatch-circa-1990s-silver-dial-baguette-diamonds-18k-yellow-gold-diamond-bezel-shoulders-bracelet', 'https://watchcollectors.co.uk/products/patek-philippe-1950s-lady-watch-white-dial-full-diamond-bracelet-tennis-bracelet-style-diamond-bezel-18k-white-gold', 'https://watchcollectors.co.uk/products/harry-winston-avenue-c-ref-330-umw-mother-of-pearl-dial-diamond-bezel-centre-rings-18k-white-gold-box-papers', 'https://watchcollectors.co.uk/products/audemars-piguet-royal-oak-chronograph-ref-26300st-oo-1110st-07-blue-dial-box-papers-2010-stainless-steel', 'https://watchcollectors.co.uk/products/girard-perregaux-richeville-ref-2750-18k-rose-gold-36mm-automatic-1990s', 'https://watchcollectors.co.uk/products/ebel-le-modular-chronograph-ref-e-9137240-blue-dial-stainless-steel-2', 'https://watchcollectors.co.uk/products/ebel-le-modular-chronograph-ref-e-9137240-blue-dial-stainless-steel-1', 'https://watchcollectors.co.uk/products/ebel-le-modular-chronograph-ref-e-9137240-blue-dial-stainless-steel', 'https://watchcollectors.co.uk/products/rolex-lady-datejust-ref-1600-gold-jubilee-diamond-dial-18k-yellow-gold', 'https://watchcollectors.co.uk/products/gerald-genta-ref-g-3080-7-18k-yellow-39938-gold-40mm', 'https://watchcollectors.co.uk/products/corum-rolls-royce-watch-18k-white-gold-ref-55586', 'https://watchcollectors.co.uk/products/cartier-tank-francaise-ref-2403-18k-white-gold-diamond-bezel-box-papers-1', 'https://watchcollectors.co.uk/products/chopard-happy-diamonds-ladies-watch-ref-20-5540-23-18k-yellow-gold-box-papers-1', 'https://watchcollectors.co.uk/products/audemars-piguet-open-worked-skeleton-dial-1970s-18k-rose-gold-30mm', 'https://watchcollectors.co.uk/products/audemars-piguet-vintage-ladies-wristwatch-ref-828006-large-diamond-bezel-31mm-integrated-bracelet-18k-yellow-gold', 'https://watchcollectors.co.uk/products/rare-cartier-mini-tank-quartz-ref-828006-14mm-pearl-integrated-bracelet-ruby-diamonds-18k-yellow-gold', 'https://watchcollectors.co.uk/products/cartier-panthere-ref-8839-27mm-18k-yellow-gold', 'https://watchcollectors.co.uk/products/a-lange-sohne-lange-1-time-zone-ref-116-032-18k-rose-gold-silver-dial-box-papers', 'https://watchcollectors.co.uk/products/ebel-ref-16613-blue-dial-box-papers-2008-stainless-steel-18k-yellow-gold', 'https://watchcollectors.co.uk/products/ulysse-nardin-ref-8839-large-model-27mm-18k-yellow-gold', 'https://watchcollectors.co.uk/products/girard-perregaux-richeville-ref-2750-large-model-27mm-18k-yellow-gold', 'https://watchcollectors.co.uk/products/ebel-34102204', 'https://watchcollectors.co.uk/products/cartier-panthere-ref-8839-large-model-27mm-18k-yellow-gold', 'https://watchcollectors.co.uk/products/rolex-lady-datejust-pearlmaster-ref-80299-18k-white-gold-diamond-dial-bezel', 'https://watchcollectors.co.uk/products/cartier-ballon-bleu-ref-3003-36mm-18k-rose-gold', 'https://watchcollectors.co.uk/products/piaget-onyx-dial-diamond-bezel-18k-yellow-gold-1', 'https://watchcollectors.co.uk/products/vintage-piaget-onyx-dial-diamond-dial-18k-yellow-gold-circa-1980s', 'https://watchcollectors.co.uk/products/vintage-piaget-tiger-eye-dial-and-bezel-18k-yellow-gold-circa-1970s', 'https://watchcollectors.co.uk/products/piaget-onyx-dial-pave-diamond-centre-18k-white-gold', 'https://watchcollectors.co.uk/products/piaget-ref-9366a6-diamond-sapphire-bezel-18k-white-gold', 'https://watchcollectors.co.uk/products/cartier-tank-anglaise-ref-3580-18k-rose-gold-20mm', 'https://watchcollectors.co.uk/products/rolex-oyster-perpetual-36mm-ref-126000-candy-pink-box-papers-2022-stainless-steel', 'https://watchcollectors.co.uk/products/audemars-piguet-royal-oak-chronograph-ref-25860st-oo-1110st-05-silver-dial-stainless-steel', 'https://watchcollectors.co.uk/products/cartier-santos-galbee-ref-1565-stainless-steel-24mm-quartz-cartier-2023-service-2-year-warranty-1', 'https://watchcollectors.co.uk/products/cartier-santos-100-ref-2656-38mm-stainless-steel-cartier-2023-service-2-year-warranty', 'https://watchcollectors.co.uk/products/patek-philippe-nautilus-jumbo-ref-3700-1-stainless-steel-18k-yellow-gold-42mm', 'https://watchcollectors.co.uk/products/longines-circa-1950s-diamond-shoulders-18k-yellow-gold-15mm', 'https://watchcollectors.co.uk/products/rare-1970s-piaget-ref-9665-h-6-complete-pave-diamond-18k-white-gold-quartz-31-5mm', 'https://watchcollectors.co.uk/products/cartier-panthere-27-5mm-18k-white-gold', 'https://watchcollectors.co.uk/products/cartier-panthere-ref-1650-22mm-18k-white-gold', 'https://watchcollectors.co.uk/products/rolex-cellini-ref-1650-diamond-bezel-gold-dial-1981-18k-yellow-gold', 'https://watchcollectors.co.uk/products/richard-mille-ref-rm029-rg-18k-rose-gold-box-papers-2017', 'https://watchcollectors.co.uk/products/jaeger-lecoultre-ref-875-21-monte-carlo', 'https://watchcollectors.co.uk/products/audemars-piguet-royal-oak-grey-dial-18k-rose-gold-tantalum', 'https://watchcollectors.co.uk/products/cartier-panthere-vendome-ref-18k-yellow-gold', 'https://watchcollectors.co.uk/products/cartier-tankissime-ref-18k-rose-gold-20mm', 'https://watchcollectors.co.uk/products/patek-philippe-aquanaut-51671a-001-stainless-steel-2', 'https://watchcollectors.co.uk/products/rm029-rg', 'https://watchcollectors.co.uk/products/cartier-tank-americaine-ref-4320-automatic-26-5mm-18k-yellow-gold', 'https://watchcollectors.co.uk/products/arnold', 'https://watchcollectors.co.uk/products/patek-philippe-calatrava-ref-5115j-001-white-enamel-dial-18k-yellow-gold', 'https://watchcollectors.co.uk/products/cartier-tank-francaise-ref-1481-18k-yellow-gold-32mm-cartier-2023-service-2-year-warranty', 'https://watchcollectors.co.uk/products/audemars-piguet-open-worked-skeleton-dial-diamond-wristwatch-18k-yellow-gold-1', 'https://watchcollectors.co.uk/products/chopard-ref-5171-18k-yellow-gold-29mm', 'https://watchcollectors.co.uk/products/cartier-santos-100-ref-2656-38mm-stainless-steel', 'https://watchcollectors.co.uk/products/rolex-sea-dweller-deepsea-ref-126660-black-dial-box-papers-2021-stainless-steel', 'https://watchcollectors.co.uk/products/rolex-daytona-ref-116518-black-mother-of-pearl-dial-box-papers-18k-yellow-gold', 'https://watchcollectors.co.uk/products/santos-galbee-sm-1565', 'https://watchcollectors.co.uk/products/de-grisogono-instrumento-n-uno-ref-uno-df-pave-diamond-grey-lilac-dial-stainless-steel-1', 'https://watchcollectors.co.uk/products/de-grisogono-instrumento-n-uno-ref-uno-df-pave-diamond-grey-lilac-dial-stainless-steel', 'https://watchcollectors.co.uk/products/cartier-tank-francaise-ref-2366-18k-white-gold-1', 'https://watchcollectors.co.uk/products/cartier-tank-francaise-ref-1821-18k-yellow-gold', 'https://watchcollectors.co.uk/products/piaget-tanagra-diamond-bezel-18k-yellow-gold-16033-m-401-d', 'https://watchcollectors.co.uk/products/patek-philippe-calatrava-ref-4522-001-cream-diamond-dial-18k-yellow-gold', 'https://watchcollectors.co.uk/products/audemars-piguet-ladies-royal-oak-grey-dial-stainless-steel-18k-yellow-gold', 'https://watchcollectors.co.uk/products/omega-ref-opal-dial-diamond-bezel-18k-yellow-gold-oblong-case', 'https://watchcollectors.co.uk/products/chronoswiss-flying-grand-regulator-open-gear-retrograde-second-resec-ref-ch-6923-sibl-stainless-steel', 'https://watchcollectors.co.uk/products/patek-philippe-chronometro-gondolo-18k-yellow-gold', 'https://watchcollectors.co.uk/products/patek-philippe-la-flamme-ref-4836-001j-cream-diamond-dial-18k-yellow-gold', 'https://watchcollectors.co.uk/products/vacheron-constantin-harmony-18k-yellow-gold-1990s', 'https://watchcollectors.co.uk/products/piaget-lady-wristwatch-ref-9171-a-6-18k-white-gold-diamond-bezel-circa-1980s-1', 'https://watchcollectors.co.uk/products/roger-dubuis', 'https://watchcollectors.co.uk/products/delaneau-gold-dial-diamond-bezel-18k-yellow-gold-1980s-quartz-mm', 'https://watchcollectors.co.uk/products/concord-gold-dial-diamond-bezel-18k-yellow-gold-1980s-quartz-mm', 'https://watchcollectors.co.uk/products/de-grisogono', 'https://watchcollectors.co.uk/products/baume-mercier-gold-dial-diamond-hours-bezel-18k-yellow-gold-1980s-quartz', 'https://watchcollectors.co.uk/products/chopard-ref-5113-1-pave-diamond-dial-18k-yellow-gold-circa-1980s', 'https://watchcollectors.co.uk/products/concord-quartz-553495-ref-20-7082-20-diamond-bezel-rings-18k-white-gold', 'https://watchcollectors.co.uk/products/chopard', 'https://watchcollectors.co.uk/products/chopard-ref-5053-1-18k-yellow-gold', 'https://watchcollectors.co.uk/products/de-grisogono-instrumento-uno-18k-rose-gold-mother-of-pearl-dial-diamond-case-1', 'https://watchcollectors.co.uk/products/breguet-ref-1601-8-gold-dial-18k-yellow-gold-rolex-service-papers', 'https://watchcollectors.co.uk/products/patek-philippe-neptune-ref-gold-dial-18k-yellow-gold-rolex-service-papers', 'https://watchcollectors.co.uk/products/nos-audemars-piguet-1980s-gents-wristwatch-18k-white-gold-black-dial-diamond-hours-bezel-movement-or-caseback', 'https://watchcollectors.co.uk/products/vacheron-constantin-traditionnelle-ref-4010t-silver-dial-with-moonphase-display-41mm-18k-rose-gold', 'https://watchcollectors.co.uk/products/patek-philippe-2', 'https://watchcollectors.co.uk/products/patek-philippe-calatrava-3820r-18k-rose-gold', 'https://watchcollectors.co.uk/products/rolex-date-ref-115200-box-papers-2019-stainless-steel', 'https://watchcollectors.co.uk/products/rolex-datejust-36-ref-1601-8-gold-dial-18k-yellow-gold-rolex-service-papers', 'https://watchcollectors.co.uk/products/richard-mille-ref-rm010-ag-wg-18k-white-gold-box-papers-2007', 'https://watchcollectors.co.uk/products/boucheron-vintage-ladys-wristwatch-circa-1980s-champagne-dial-double-row-diamond-bezel-18k-yellow-gold', 'https://watchcollectors.co.uk/products/rolex-day-date-ref-18238-gold-diamond-ruby-string-dial-18k-yellow-gold', 'https://watchcollectors.co.uk/products/rolex-day-date-ref-18238-blue-degrade-diamond-dial-box-papers-18k-yellow-gold', 'https://watchcollectors.co.uk/products/vacheron-constantin-vintage-watch-ref-5117g-18k-yellow-gold-37mm', 'https://watchcollectors.co.uk/products/a-lange-sohne-lange-ref-878-029-2020-1-time-zone-25th-anniversary-limited-edition-25-pieces-ref-116-066-18k-white-gold-silver-dial-2019', 'https://watchcollectors.co.uk/products/delaneau', 'https://watchcollectors.co.uk/products/rolex-16570', 'https://watchcollectors.co.uk/products/ebel-sport-classic-lady-wristwatch-ref-881908-18k-white-yellow-gold-diamond-bezel-bracelet-circa-1980s', 'https://watchcollectors.co.uk/products/piaget-lady-wristwatch-ref-9171-a-6-18k-white-gold-diamond-bezel-circa-1980s', 'https://watchcollectors.co.uk/products/rolex-day-date-40-ref-228238-gold-dial-box-papers-18k-yellow-gold', 'https://watchcollectors.co.uk/products/rolex-daytona-ref-116509-grey-racing-dial-18k-white-gold', 'https://watchcollectors.co.uk/products/rolex-cellini-dual-time-ref-50525-18k-rose-gold-box-papers-2016', 'https://watchcollectors.co.uk/products/patek-philippe-world-time-ref-5130-1r-011-18k-rose-gold-box-papers-2017', 'https://watchcollectors.co.uk/products/a-lange-sohne-lange-1-time-zone-116-033-18k-white-gold', 'https://watchcollectors.co.uk/products/rolex-day-date-ref-18139-gold-jubilee-diamond-dial-diamond-bezel-shoulders-bracelet-1980s-18k-white-yellow-gold', 'https://watchcollectors.co.uk/products/audemars-piguet-jules-audemars-ref-25955or-o-0002cr-01-box-papers-2001-18k-rose-gold', 'https://watchcollectors.co.uk/products/audemars-piguet-1980s-vintage-watch-lapis-lazuli-dial-diamond-bezel-18k-white-gold', 'https://watchcollectors.co.uk/products/rolex-pearlmaster-ref-80285-diamond-6-bezel-bracelet-mother-of-pearl-dial-18k-rose-gold-1', 'https://watchcollectors.co.uk/products/unworn-rolex-submariner-41mm-ref-126610ln-stainless-steel-box-papers-2023', 'https://watchcollectors.co.uk/products/vacheron-constantin-vintage-watch-onyx-pave-diamond-dial-18k-yellow-gold', 'https://watchcollectors.co.uk/products/corum-golden-bridge-39-ref-b113-03852-18k-white-gold', 'https://watchcollectors.co.uk/products/unworn-rolex-datejust-pearlmaster-34-ref-81299-18k-white-gold-mother-of-pearl-dial-diamond-hours-bezel-box-papers-2019', 'https://watchcollectors.co.uk/products/patek-philippe-calatrava-ref-5297g-001-black-diamond-dial-bezel-box-papers-18k-white-gold-38mm', 'https://watchcollectors.co.uk/products/rolex-datejust-ref-116200-white-dial-box-papers-2010-stainless-steel', 'https://watchcollectors.co.uk/products/unworn-rolex-day-date-18k-white-gold-baguette-bezel-pave-dial-blue-enamel-ref-218399br-1', 'https://watchcollectors.co.uk/products/rare-vintage-piaget-18k-yellow-gold-factory-diamond-set-jewellery-watch-1', 'https://watchcollectors.co.uk/products/unworn-rolex-yacht-master-40mm-rainbow-gem-bezel-pave-diamond-rose-gold-116695sats-1', 'https://watchcollectors.co.uk/products/rolex-day-date-ref-18048-carousel-green-jade-dial-diamond-dial-bezel-shoulders-18k-yellow-gold', 'https://watchcollectors.co.uk/products/patek-philippe-calatrava-ref-5127r-001-18k-rose-gold-box-papers-37mm', 'https://watchcollectors.co.uk/products/vacheron-constantin-overseas-ref-4010t-silver-dial-moonphase-display-41mm-18k-yellow-gold', 'https://watchcollectors.co.uk/products/patek-philippe-gondolo-ref-18k-yellow-gold', 'https://watchcollectors.co.uk/products/rolex-submariner-ref-16613-silver-serti-dial-box-papers-stainless-steel-18k-yellow-gold', 'https://watchcollectors.co.uk/products/pp-2', 'https://watchcollectors.co.uk/products/harry-winston', 'https://watchcollectors.co.uk/products/rolex-datejust-oyster-quartz-ref-17000-box-papers-stainless-steel', 'https://watchcollectors.co.uk/products/unworn-rolex-day-date-ref-118388-carousel-green-jade-dial-diamond-dial-bezel-shoulders-18k-yellow-gold', 'https://watchcollectors.co.uk/products/cartier-pasha-ref-2770-18k-rose-gold-42mm', 'https://watchcollectors.co.uk/products/extremely-rare-audemars-piguet-lady-wristwatch-pave-diamonds-emeralds-18k-rose-white-gold', 'https://watchcollectors.co.uk/products/rare-audemars-piguet-lady-wristwatch-unique-pave-diamonds-emeralds-sapphires-rubies-18k-yellow-gold-1', 'https://watchcollectors.co.uk/products/rare-audemars-piguet-lady-wristwatch-unique-pave-diamonds-emeralds-sapphires-rubies-18k-yellow-gold', 'https://watchcollectors.co.uk/products/chopard-happy-diamonds-ref-535-1-heart-shape-bracelet-with-floating-diamonds-pave-diamond-bezel-dial', 'https://watchcollectors.co.uk/products/artier-tank-americaine-ref-1713-double-row-diamond-bezel-18k-white-gold-22mm', 'https://watchcollectors.co.uk/products/audemars-piguet-royal-oak-offshore-chronograph-queens-road-limited-100-pieces-titanium-1', 'https://watchcollectors.co.uk/products/unworn-rolex-yacht-master-40-126621-stainless-steel-18k-rose-gold-intense-black-dial-1', 'https://watchcollectors.co.uk/products/rolex-ladies-yacht-master-169623-stainless-steel-18k-yellow-gold-1', 'https://watchcollectors.co.uk/products/rolex-daytona-ref-116519ln-black-diamond-dial-18k-white-gold-2019', 'https://watchcollectors.co.uk/products/rolex-datejust-36mm-ref-16233-gold-diamond-dial-box-papers-stainless-steel-18k-yellow-gold-1', 'https://watchcollectors.co.uk/products/rolex-8', 'https://watchcollectors.co.uk/products/omega', 'https://watchcollectors.co.uk/products/bvlgari-power-reserve-ref-bb-w-41-gl-18k-white-gold-manual-wind', 'https://watchcollectors.co.uk/products/rolex-gmt-master-ii-rootbeer-ref-126711chnr-box-papers-2021-stainless-steel-18k-rose-gold', 'https://watchcollectors.co.uk/products/rolex-pearlmaster-datejust-34-ref-81339-18k-yellow-gold-mother-of-pearl-dial-diamond-hours-bezel-box-papers-2014', 'https://watchcollectors.co.uk/products/girard-perregaux-chronograph-ref-4956-18k-white-gold-blue-dial', 'https://watchcollectors.co.uk/products/rolex-datejust-ref-68248-31mm-lapis-lazuli-diamond-dial-18k-yellow-gold-midsize', 'https://watchcollectors.co.uk/products/ebel-beluga-ref-885940-diamond-emerald-bezel-mother-of-pearl-dial-18k-yellow-gold-circa-1990s', 'https://watchcollectors.co.uk/products/rolex-sea-dweller-deepsea-deep-blue-james-cameron-ref-116660-stainless-steel-box-papers-2016', 'https://watchcollectors.co.uk/products/cartier-2', 'https://watchcollectors.co.uk/products/ebel', 'https://watchcollectors.co.uk/products/rolex-3', 'https://watchcollectors.co.uk/products/cartier', 'https://watchcollectors.co.uk/products/copy-of-rolex-lady-datejust-pearlmaster-69298-18k-yellow-gold-coral-diamond-dial-bezel', 'https://watchcollectors.co.uk/products/patek-philippe-ref-5050-perpetual-calendar-moonphase-18k-yellow-gold', 'https://watchcollectors.co.uk/products/rolex-datejust-oysterquartz-ref-17013-36mm-gold-dial-stainless-steel-18k-yellow-gold', 'https://watchcollectors.co.uk/products/jaeger-lecoultre-reverso-ref-235-8-76-reversible-dial-mother-of-pearl-with-diamond-bezel-black-reverse-with-smooth-bezel-stainless-steel', 'https://watchcollectors.co.uk/products/cartier-ballon-bleu-large-ref-2999-42mm-18k-rose-gold', 'https://watchcollectors.co.uk/products/rolex-1', 'https://watchcollectors.co.uk/products/pp', 'https://watchcollectors.co.uk/products/jlc', 'https://watchcollectors.co.uk/products/vacheron-constantin-overseas-ref-72540-423j-8-black-dial-diamond-bezel-18k-rose-gold', 'https://watchcollectors.co.uk/products/omega-de-ville-chronometre-co-axial-ref-41313000-18k-yellow-gold-box-papers-2002', 'https://watchcollectors.co.uk/products/rolex-submariner-ref-16610-stainless-steel-1995', 'https://watchcollectors.co.uk/products/rolex-datejust-36mm-ref-16233-silver-jubilee-diamond-dial-box-papers-stainless-steel-18k-yellow-gold', 'https://watchcollectors.co.uk/products/rolex-daytona-ref-116528-black-mother-of-pearl-diamond-dial-box-papers-18k-yellow-gold-2014', 'https://watchcollectors.co.uk/products/draft', 'https://watchcollectors.co.uk/products/chopard-happy-diamonds-ladies-watch-ref-20-5540-23-18k-yellow-gold-box-papers', 'https://watchcollectors.co.uk/products/rare-vacheron-constantin-lapis-lazuli-pave-diamonds-sapphire-baguettes-18k-white-gold-wristwatch', 'https://watchcollectors.co.uk/products/patek-philippe-vintage-watch-31mm-18k-yellow-gold', 'https://watchcollectors.co.uk/products/piaget-polo-ladies-wristwatch-ref-27501-18k-white-gold-diamond-dial-bezel-and-bracelet', 'https://watchcollectors.co.uk/products/patek-philippe-vintage-watch-chocoloate-bronze-golden-unique-dial-18k-yellow-gold-30mm', 'https://watchcollectors.co.uk/products/patek-philippe-calatrava-ref-3919-33mm-18k-yellow-gold', 'https://watchcollectors.co.uk/products/patek-philippe-annual-calendar-ref-5035-18k-white-gold-black-dial', 'https://watchcollectors.co.uk/products/rolex-day-date-ii-ref-218238-white-dial-roman-numerals-box-papers-18k-yellow-gold', 'https://watchcollectors.co.uk/products/rolex-day-date-ii-ref-218235-black-dial-box-papers-41mm-18k-rose-gold', 'https://watchcollectors.co.uk/products/cartier-tank-americaine-ref-1726-double-row-diamond-bezel-18k-white-gold-22mm', 'https://watchcollectors.co.uk/products/iwc-portugese-hand-wound-eight-days-ref-iw510204-18k-rose-gold-box-papers', 'https://watchcollectors.co.uk/products/rolex-daytona-ref-116528-black-mother-of-pearl-diamond-dial-box-papers-18k-yellow-gold', 'https://watchcollectors.co.uk/products/cartier-baignoire-2369-18k-white-gold-double-row-diamond-bezel-1', 'https://watchcollectors.co.uk/products/chanel-ladies-wristwatch-ref-h0834-18k-yellow-gold-service-papers-2021', 'https://watchcollectors.co.uk/products/rolex-datejust-36mm-ref-16000-white-dial-box-papers-stainless-steel-1988', 'https://watchcollectors.co.uk/products/rolex-daytona-ref-116515ln-chocolate-brown-dial-18k-rose-gold-box-papers-2013', 'https://watchcollectors.co.uk/products/rolex-lady-datejust-ref-179173-black-jubilee-diamond-dial-stainless-steel-18k-yellow-gold', 'https://watchcollectors.co.uk/products/rolex-daytona-ref-16523-silver-dial-stainless-steel-18k-yellow-gold', 'https://watchcollectors.co.uk/products/rolex-daytona-ref-16523-gold-dial-box-papers-1998-stainless-steel-18k-yellow-gold', 'https://watchcollectors.co.uk/products/audemars-piguet-18k-white-gold-diamond-hours-bezel-bracelet', 'https://watchcollectors.co.uk/products/cartier-santos-round-chronograph-ref-1500-0-blue-dial-18k-yellow-gold-ladies', 'https://watchcollectors.co.uk/products/cartier-colisee-ladies-wristwatch-18k-yellow-gold-ref-8057-triple-row-diamond-bezel', 'https://watchcollectors.co.uk/products/cartier-colisee-ref-1989-1-18k-yellow-gold-diamond-bracelet-roman-numeral-hours', 'https://watchcollectors.co.uk/products/vacheron-constantin-overseas-chronograph-49150-black-dial-stainless-steel-1', 'https://watchcollectors.co.uk/products/rolex-yacht-master-40-126621-stainless-steel-18k-rose-gold-intense-black-dial', 'https://watchcollectors.co.uk/products/audemars-piguet-1970s-gents-wristwatch-18k-white-gold-blue-pattern-dial-diamond-hours', 'https://watchcollectors.co.uk/products/ulysse-nardin-sonata-ref-670-88-213-cathedral-dual-time-18k-white-gold', 'https://watchcollectors.co.uk/products/rolex-gmt-master-ii-pepsi-ref-16710-t-stainless-steel-box-papers-2006', 'https://watchcollectors.co.uk/products/rolex-milgauss-ref-116400gv-box-papers-grey-dial-2021-stainless-steel', 'https://watchcollectors.co.uk/products/rolex-explorer-ii-ref-216570-black-dial-stainless-steel-2014-box-papers-1', 'https://watchcollectors.co.uk/products/patek-philippe-calatrava-ref-3998j-18k-yellow-gold-silvered-dial', 'https://watchcollectors.co.uk/products/patek-philippe-calatrava-ref-3919j-18k-yellow-gold', 'https://watchcollectors.co.uk/products/rolex-datejust-41mm-ref-116333-box-papers-2011-stainless-steel-18k-yellow-gold', 'https://watchcollectors.co.uk/products/rolex-datejust-36mm-ref-16220-white-dial-roman-numerals-stainless-steel-2002', 'https://watchcollectors.co.uk/products/cartier-panthere-large-jumbo-model-18k-yellow-gold-29mm-1', 'https://watchcollectors.co.uk/products/rolex-pearlmaster-midsize-datejust-ref-80318-18k-yellow-gold-diamond-bezel', 'https://watchcollectors.co.uk/products/rolex-gmt-master-ii-rootbeer-ref-126715chnr-18k-rose-gold-box-papers-2018', 'https://watchcollectors.co.uk/products/audemars-piguet-royal-oak-jumbo-ref-15202-blue-dial-39mm-stainless-steel', 'https://watchcollectors.co.uk/products/unworn-rolex-oyster-perpetual-39mm-ref-114300-blue-dial-stainless-steel-2015', 'https://watchcollectors.co.uk/products/rolex-datejust-ref-116231-36mm-white-roman-dial-box-papers-2007-stainless-steel-18k-rose-gold', 'https://watchcollectors.co.uk/products/patek-philippe-nautilus-chronograph-ref-5980-1a-001-geneva-seal-stainless-steel-2010', 'https://watchcollectors.co.uk/products/ebel-ladies-diamond-wristwatch-18k-white-gold-ref-e3157h26-600-pave-diamond-limited-50-pieces', 'https://watchcollectors.co.uk/products/cartier-la-dona-ref-2895-18k-white-gold-diamond-bezel', 'https://watchcollectors.co.uk/products/cartier-tank-allongee-lanieres-ref-2593-18k-rose-gold', 'https://watchcollectors.co.uk/products/chopard-imperiale-ref-39-3168-36-or-4156-full-pave-diamond-18k-white-gold-box-papers-26mm', 'https://watchcollectors.co.uk/products/cartier-tank-francaise-ref-2366-18k-white-gold', 'https://watchcollectors.co.uk/products/rolex-oyster-perpetual-39mm-ref-114300-black-dial-stainless-steel-2019', 'https://watchcollectors.co.uk/products/rolex-submariner-silver-serti-dial-ref-16613-stainless-steel-18k-yellow-gold-box-papers-rolex-service-2020', 'https://watchcollectors.co.uk/products/bvlgari-ref-bb-41-s-blue-dial-stainless-steel-2016', 'https://watchcollectors.co.uk/products/piaget-dual-time-ladies-sapphire-wristwatch-18k-white-gold-19mm-circa-1970s', 'https://watchcollectors.co.uk/products/piaget-emperador-ref-pi0043-18k-rose-gold-29mm', 'https://watchcollectors.co.uk/products/rolex-oyster-perpetual-26mm-ref-176200-purple-grape-dial-stainless-steel', 'https://watchcollectors.co.uk/products/chopard-ladies-wristwatch-ref-442429-18k-yellow-gold-mother-of-pearl-diamond-dial-sapphire-diamond-shoulder', 'https://watchcollectors.co.uk/products/rolex-date-34mm-ref-15210-blue-dial-engine-turned-bezel-stainless-steel', 'https://watchcollectors.co.uk/products/vacheron-constantin-vintage-onyx-diamond-wristwatch-18k-white-gold-woven-bracelet', 'https://watchcollectors.co.uk/products/rolex-submariner-nos-ref-16613ln-black-dial-box-papers-2011-stainless-steel-18k-yellow-gold', 'https://watchcollectors.co.uk/products/unworn-rolex-daytona-ref-116519ln-mother-of-pearl-diamond-dial-18k-white-gold-2021', 'https://watchcollectors.co.uk/products/unworn-corum-bubble-42-ref-082-413-98-0390-ca03-purple-pvd-stainless-steel-limited-88-pieces', 'https://watchcollectors.co.uk/products/unworn-corum-bubble-47-ref-082-310-98-0177-ca02-black-pvd-stainless-steel-limited-88-pieces', 'https://watchcollectors.co.uk/products/unworn-bell-ross-brs-quartz-ref-brs-98-pwcd-ceramic-stainless-steel-diamond-bezel-dial', 'https://watchcollectors.co.uk/products/patek-philippe-calatrava-ref-3919-18k-yellow-gold', 'https://watchcollectors.co.uk/products/rolex-gmt-master-ii-ref-16710-stainless-steel-2002', 'https://watchcollectors.co.uk/products/cartier-roadster-2723-diamond-bezel-18k-white-gold', 'https://watchcollectors.co.uk/products/cartier-pasha-de-cartier-2727-18k-white-gold-diamond-bezel-42mm', 'https://watchcollectors.co.uk/products/rolex-explorer-ref-16570-t-white-dial-stainless-steel-2006', 'https://watchcollectors.co.uk/products/cartier-tank-americaine-diamond-bezel-grey-dial-18k-white-gold-19mm-case-no-2489', 'https://watchcollectors.co.uk/products/cartier-pasha-de-cartier-18k-rose-gold-diamond-bezel-42mm', 'https://watchcollectors.co.uk/products/patek-philippe-4283-1-coral-dial-rare-integrated-woven-bezel-bracelet-18k-yellow-gold', 'https://watchcollectors.co.uk/products/rolex-oyster-perpetual-39mm-grape-dial-ref-114300-stainless-steel-2018', 'https://watchcollectors.co.uk/products/piaget-vintage-ladies-dress-wristwatch-diamond-bezel-18k-white-gold-15-5mm', 'https://watchcollectors.co.uk/products/rolex-day-date-ii-ref-218238-diamond-ruby-baguette-gold-dial-18k-yellow-gold', 'https://watchcollectors.co.uk/products/vacheron-constantin-1980s-vintage-watch-onyx-pave-diamond-dial-18k-white-gold', 'https://watchcollectors.co.uk/products/patek-philippe-ellipse-lady-4137-1-blue-dial-diamond-bezel-18k-white-gold-woven-bracelet', 'https://watchcollectors.co.uk/products/bulgari-serpenti-tubogas-sp-35-s-stainless-steel-silver-dial-size-s-135mm', 'https://watchcollectors.co.uk/products/bulgari-bvlgari-diagono-ladies-wristwatch-bb-26-gg-18k-yellow-gold-diamond-dial', 'https://watchcollectors.co.uk/products/chopard-vintage-18k-white-gold-ladies-wristwatch-unique-swirl-diamond-bezel', 'https://watchcollectors.co.uk/products/bulgari-lucea-ladies-wristwatch-lu-w-16-g-18k-white-gold-mother-of-pearl-dial', 'https://watchcollectors.co.uk/products/bulgari-mens-watch-bb-w-42-gl-auto-18k-white-gold-black-dial-diamond-bezel', 'https://watchcollectors.co.uk/products/bulgari-serpenti-tubogas-sp-35-s-stainless-steel-silver-dial-size-l-145mm', 'https://watchcollectors.co.uk/products/cartier-ruban-ladies-wristwatch-18k-white-gold-mother-of-pearl-dial-diamond-bezel', 'https://watchcollectors.co.uk/products/tudor-black-bay-70150-0001-stainless-steel', 'https://watchcollectors.co.uk/products/tudor-black-bay-fifty-eight-79030b-blue-dial-stainless-steel', 'https://watchcollectors.co.uk/products/unworn-patek-philippe-world-time-5130p-014-dubai-edition-platinum', 'https://watchcollectors.co.uk/products/unworn-patek-philippe-calatrava-5153g-012-london-2015-limited-edition-of-80-pieces-18k-white-gold', 'https://watchcollectors.co.uk/products/cartier-ballon-bleu-3005-36mm-stainless-steel-cartier-serviced-2021', 'https://watchcollectors.co.uk/products/cartier-baignoire-2369-18k-white-gold-double-row-diamond-bezel', 'https://watchcollectors.co.uk/products/piaget-diamond-bezel-wristwatch-18k-yellow-gold', 'https://watchcollectors.co.uk/products/cartier-7-5mm-vintage-ladies-wristwatch-circa-1980s-18k-yellow-gold-full-diamond-bracelet-baguette-diamond-case', 'https://watchcollectors.co.uk/products/omega-constellation-18k-yellow-gold-1', 'https://watchcollectors.co.uk/products/omega-18k-yellow-gold-ladies-diamond-wristwatch', 'https://watchcollectors.co.uk/products/chanel-lady-j12-ceramic-stainless-steel', 'https://watchcollectors.co.uk/products/vacheron-constantin-27021-150j-7-ladies-wristwatch-18k-yellow-gold-diamond-dial', 'https://watchcollectors.co.uk/products/dunhill-centenary-pocket-watch-limited-edition-of-25-pieces-in-18k-yellow-circa-2000', 'https://watchcollectors.co.uk/products/de-grisogono-instrumento-grande-18k-rose-gold', 'https://watchcollectors.co.uk/products/patek-philippe-gondolo-serata-4972g-001-18k-white-gold-1', 'https://watchcollectors.co.uk/products/corum-spartacus-vintage-wristwatch-in-18k-yellow-gold', 'https://watchcollectors.co.uk/products/rare-gubelin-diamond-ruby-sapphire-ladies-wristwatch-in-18k-yellow-gold-circa-1960s', 'https://watchcollectors.co.uk/products/graff-by-alexis-barthelay-ladies-wristwatch-in-18k-yellow-gold-pave-diamond-dial-bezel', 'https://watchcollectors.co.uk/products/rolex-midsize-oyster-perpetual-77014-stainless-steel-18k-white-gold-bezel-blue-dial', 'https://watchcollectors.co.uk/products/cartier-tank-francaise-midsize-1821-18k-yellow-gold-champagne-diamond-bezel', 'https://watchcollectors.co.uk/products/rolex-lady-datejust-69174-stainless-steel-18k-white-gold-ultra-rare-pin-ball-dial', 'https://watchcollectors.co.uk/products/rolex-daytona-116523-stainless-steel-18k-yellow-gold-black-mother-of-pearl-dial', 'https://watchcollectors.co.uk/products/rolex-day-date-6612-18k-yellow-gold-linen-dial', 'https://watchcollectors.co.uk/products/cartier-panthere-vendome-18k-white-gold', 'https://watchcollectors.co.uk/products/rolex-precision-ladies-18k-yellow-gold-wristwatch', 'https://watchcollectors.co.uk/products/cartier-ballon-bleu-w69012z4-large-42mm-stainless-steel', 'https://watchcollectors.co.uk/products/cartier-ballon-bleu-36mm-stainless-steel', 'https://watchcollectors.co.uk/products/cartier-tank-allongee-lanieres-18k-white-gold-diamond-bezel-1', 'https://watchcollectors.co.uk/products/bremont-solo-18-sqn-stainless-steel-limited-edition-50-pieces', 'https://watchcollectors.co.uk/products/rolex-sea-dweller-16660-stainless-steel', 'https://watchcollectors.co.uk/products/iwc-da-vinci-quartz-electronic-18k-yellow-gold-70s', 'https://watchcollectors.co.uk/products/rolex-oyster-perpetual-date-1501-gold-zephyr-dial-18k-yellow-gold', 'https://watchcollectors.co.uk/products/the-royal-diamond-double-ba-218-lady-wristwatch-18k-white-gold-black-white-diamonds', 'https://watchcollectors.co.uk/products/cartier-colisee-18k-yellow-gold-18k-white-gold-pave-diamond-dial-bezel-and-bracelet', 'https://watchcollectors.co.uk/products/iwc-portofino-hand-wound-8-days-power-reserve-stainless-steel', 'https://watchcollectors.co.uk/products/piaget-polo-large-goa26026-18k-white-gold-pave-dial-bracelet', 'https://watchcollectors.co.uk/products/rare-gerald-genta-retailed-by-mouawad-skeleton-wristwatch-18k-white-gold-diamond-bezel', 'https://watchcollectors.co.uk/products/van-cleef-arpels-18k-yellow-gold-factory-diamond-set-ladies-wristwatch', 'https://watchcollectors.co.uk/products/longines-christobal-c-compass-5253-full-set-stainless-steel-columbus-500th-anniversary-1942-commemorative-watch', 'https://watchcollectors.co.uk/products/romeo-ladies-wristwatch-18k-white-gold-diamonds-mother-of-pearl', 'https://watchcollectors.co.uk/products/vacheron-constantin-18k-white-gold-lapis-lazuli-dial', 'https://watchcollectors.co.uk/products/cartier-tank-allongee-lanieres-diamond-bezel-18k-white-gold', 'https://watchcollectors.co.uk/products/cartier-tank-divan-2601-18k-yellow-gold-diamond-bezel', 'https://watchcollectors.co.uk/products/piaget-dancer-18k-white-gold-salmon-dial', 'https://watchcollectors.co.uk/products/bvlgari-parentesi-bj06-18k-white-gold-pave-diamond-dial-diamond-bracelet', 'https://watchcollectors.co.uk/products/vacheron-constantin-18k-white-gold-diamond-bezel-ladies-wristwatch', 'https://watchcollectors.co.uk/products/jaeger-lecoultre-odysseus-chronograph-moonphase-165-7-3-18k-yellow-gold', 'https://watchcollectors.co.uk/products/piaget-tanagra-goa-15246-18k-yellow-gold-pave-diamond-dial-ruby-baguettes', 'https://watchcollectors.co.uk/products/chopard-18k-white-gold-dual-time-diamond-dial-bezel', 'https://watchcollectors.co.uk/products/vacheron-constantin-gents-wristwatch-18k-yellow-gold-1', 'https://watchcollectors.co.uk/products/rare-patek-philippe-calatrava-3758-oversize-jumbo-ultra-thin-automatic-caliber-240', 'https://watchcollectors.co.uk/products/vacheron-constantin-18k-white-gold-ladies-wristwatch-marquis-diamond-bezel', 'https://watchcollectors.co.uk/products/piaget-pave-diamond-dial-bezel-clasp-ladies-wristwatch-p10101-18k-white-gold', 'https://watchcollectors.co.uk/products/cartier-colisee-18k-yellow-gold-triple-diamond-bezel-shoulder-winder', 'https://watchcollectors.co.uk/products/patek-philippe-lady-calatrava-4820-18k-yellow-gold-diamond-bezel', 'https://watchcollectors.co.uk/products/iwc-portugieser-portuguese-iw544505-platinum-500-pieces', 'https://watchcollectors.co.uk/products/rolex-cellini-18k-white-gold-blue-degrade-spider-dial', 'https://watchcollectors.co.uk/products/harry-winston-no-1-200-mmtz39w-premier-excenter-timezone-18k-white-gold', 'https://watchcollectors.co.uk/products/piaget-lapis-lazuli-18k-white-gold-vintage-ladies-wristwatch', 'https://watchcollectors.co.uk/products/piaget-vintage-ladies-wristwatch-onyx-dial-18k-yellow-gold', 'https://watchcollectors.co.uk/products/cartier-tonneau-2711-18k-white-gold-diamond-bezel', 'https://watchcollectors.co.uk/products/hublot-ceramic-big-bang-limited-edition-federacion-espanola-de-futbol-fef-spanish-football-federation', 'https://watchcollectors.co.uk/products/chaumet-18k-white-gold-mop-diamond-dial', 'https://watchcollectors.co.uk/products/factory-set-cartier-ronde-louis-wr007004-18k-white-gold-pave-diamond', 'https://watchcollectors.co.uk/products/unworn-full-set-bulgari-bvlgari-octo-solotempo-bgop41g-campeon-del-mundo-2012-limited-edition-18k-rose-gold', 'https://watchcollectors.co.uk/products/montre-royale-pave-diamond-dial-bezel-bracelet-jewellery-wristwatch-18k-white-gold', 'https://watchcollectors.co.uk/products/harry-winston-200-mmtz39w-premier-excenter-timezone-18k-white-gold', 'https://watchcollectors.co.uk/products/cartier-tank-americaine-medium-2490-diamond-bezel-18k-white-gold', 'https://watchcollectors.co.uk/products/rare-montega-ruby-princess-cut-bezel-pave-diamond-dial-18k-white-gold', 'https://watchcollectors.co.uk/products/piaget-limelight-tonneau-18k-white-gold-pave-diamond-dial-diamond-bezel', 'https://watchcollectors.co.uk/products/patek-philippe-ellipse-quartz-18k-yellow-gold', 'https://watchcollectors.co.uk/products/cartier-tank-americaine-2483-18k-yellow-gold-diamond-bezel', 'https://watchcollectors.co.uk/products/cartier-tank-americaine-chronograph-quartz-2312-18k-white-gold', 'https://watchcollectors.co.uk/products/patek-philippe-18k-white-gold-vintage-diamond-bezel', 'https://watchcollectors.co.uk/products/cartier-ruban-18k-white-gold-mother-of-pearl-dial-diamond-bezel', 'https://watchcollectors.co.uk/products/patek-philippe-gondolo-5112g-001-18k-white-gold', 'https://watchcollectors.co.uk/products/audemars-piguet-vintage-wristwatch-18k-yellow-gold', 'https://watchcollectors.co.uk/products/cartier-tank-americaine-18k-white-gold-2489', 'https://watchcollectors.co.uk/products/rolex-day-date-platinum-18346-silver-diamond-dial-1', 'https://watchcollectors.co.uk/products/chopard-18k-white-gold-rubelite-dial-vintage', 'https://watchcollectors.co.uk/products/chopard-la-strada-41-7091-8-20-18k-white-gold-diamond-case-mother-of-pearl-dial', 'https://watchcollectors.co.uk/products/breguet-skeleton-diamond-18k-yellow-gold-very-rare-possibly-one-of-a-kind', 'https://watchcollectors.co.uk/products/louis-vuitton-tambour-chronograph-stainless-steel', 'https://watchcollectors.co.uk/products/cartier-18k-yellow-gold-vintage-wristwatch-diamond-bracelet', 'https://watchcollectors.co.uk/products/piaget-18k-white-gold-diamond-bezel-vintage', 'https://watchcollectors.co.uk/products/breguet-moonphase-18k-yellow-gold', 'https://watchcollectors.co.uk/products/bulgari-bvlgari-tubogas-bb-19-2t-18k-white-yellow-gold', 'https://watchcollectors.co.uk/products/rare-collectable-vacheron-constantin-18k-yellow-gold-onyx-diamond', 'https://watchcollectors.co.uk/products/vintage-piaget-18k-white-gold-diamond-side-bezel', 'https://watchcollectors.co.uk/products/rare-collectable-vacheron-constantin-18k-yellow-gold-lapis-lazuli-diamond', 'https://watchcollectors.co.uk/products/roger-dubuis-limited-edition-much-more-m34570-18k-white-gold', 'https://watchcollectors.co.uk/products/corum-ladys-millenium-2000-limited-edition-137-310-59-18k-yellow-white-gold', 'https://watchcollectors.co.uk/products/patek-philippe-ellipse-18k-white-gold-3545-5', 'https://watchcollectors.co.uk/products/piaget-possession-diamond-bezel-18k-white-gold', 'https://watchcollectors.co.uk/products/omega-meister-18k-white-gold', 'https://watchcollectors.co.uk/products/chopard-limited-edition-elton-john-foundation-chronograph-17-1868-20-18k-yellow-gold', 'https://watchcollectors.co.uk/products/special-rolex-oyster-perpetual-6744-18k-yellow-gold-qaboos-sultan-of-oman', 'https://watchcollectors.co.uk/products/rolex-day-date-18078-18k-yellow-gold-blue-degrade-diamond-dial', 'https://watchcollectors.co.uk/products/chopard-vintage-18k-white-gold-diamond-bezel', 'https://watchcollectors.co.uk/products/rare-omega-constellation-oman-crest-11023000-18k-yellow-gold', 'https://watchcollectors.co.uk/products/chopard-18k-white-gold-pave-diamond-dial-bezel-and-heart-shaped-lugs', 'https://watchcollectors.co.uk/products/piaget-18k-white-gold-diamond-bezel', 'https://watchcollectors.co.uk/products/new-old-stock-90s-chopard-lady-18k-white-gold-diamonds-sapphires-5026', 'https://watchcollectors.co.uk/products/delacour-city-attitude-hell-18k-rose-gold-10-88-wapg0311-1136', 'https://watchcollectors.co.uk/products/piaget-lady-18k-yellow-gold-45053-lapis-lazuli-diamond-bezel', 'https://watchcollectors.co.uk/products/rare-factory-rolex-lady-datejust-pearlmaster-69298-18k-yellow-gold-diamonds-mother-of-pearl', 'https://watchcollectors.co.uk/products/vacheron-constantin-18k-white-gold-lapis-lazuli-dial-diamond-bezel', 'https://watchcollectors.co.uk/products/full-set-iwc-portugese-hand-wound-eight-days-iw510204-18k-rose-gold', 'https://watchcollectors.co.uk/products/vintage-ladies-vacheron-constantin-18k-yellow-gold', 'https://watchcollectors.co.uk/products/very-rare-possibly-unique-chopard-18k-yellow-gold-lapis-lazuli-dial', 'https://watchcollectors.co.uk/products/very-rare-possibly-unique-vacheron-constantin-18k-yellow-gold', 'https://watchcollectors.co.uk/products/very-rare-possibly-unique-vintage-piaget-18k-yellow-gold-lapis-lazuli', 'https://watchcollectors.co.uk/products/very-rare-possibly-unique-omega-serpentine-18k-yellow-gold', 'https://watchcollectors.co.uk/products/chopard-happy-sport-4144-18k-white-rose-gold-pink-diamond-bezel-diamond-case', 'https://watchcollectors.co.uk/products/rolex-lady-datejust-179174-stainless-steel-18k-white-gold-mother-of-pearl-dial', 'https://watchcollectors.co.uk/products/yves-saint-blaise-18k-yellow-gold-turquoise-dial-vintage', 'https://watchcollectors.co.uk/products/very-rare-factory-cartier-baignoire-18k-yellow-gold-4-3ct-yellow-sapphire-bezel', 'https://watchcollectors.co.uk/products/corum-18k-yellow-gold-pave-diamond-dial-shoulders', 'https://watchcollectors.co.uk/products/yves-saint-laurent-18k-yellow-gold', 'https://watchcollectors.co.uk/products/montega-18k-white-gold', 'https://watchcollectors.co.uk/products/gerald-genta-perpetual-calendar-g9170-4-18k-yellow-diamond', 'https://watchcollectors.co.uk/products/piaget-altiplano-90920-18k-rose-gold', 'https://watchcollectors.co.uk/products/juvenia-lady-238-18k-yellow-gold-diamond-sapphire', 'https://watchcollectors.co.uk/products/patek-philippe-lady-ellipse-4521-1-diamond-18k-yellow-gold', 'https://watchcollectors.co.uk/products/blancpain-diamond-baguette-marquise-18k-white-gold', 'https://watchcollectors.co.uk/products/factory-rolex-lady-datejust-69138-lapis-lazuli-diamond-18k-yellow-gold', 'https://watchcollectors.co.uk/products/rare-factory-rolex-midsize-datejust-68288-18k-yellow-gold-lapis-lazuli-diamond-dial', 'https://watchcollectors.co.uk/products/baume-mercier-dual-time-18k-yellow-gold', 'https://watchcollectors.co.uk/products/chopard-opal-dial-diamond-18k-white-gold', 'https://watchcollectors.co.uk/products/montre-royale-diamond-ruby-18k-yellow-gold']\n"
     ]
    }
   ],
   "source": [
    "from bs4 import BeautifulSoup\n",
    "import requests\n",
    "from urllib.parse import urljoin\n",
    "import time\n",
    "import csv\n",
    "\n",
    "# def products_links(url):\n",
    "#     response = requests.get(url)\n",
    "#     soup = BeautifulSoup(response.text, 'html.parser')\n",
    "\n",
    "#     # print(soup.prettify())\n",
    "\n",
    "#     # Targeting the <ul> element with id \"product-grid\"\n",
    "#     product_grid = soup.find('ul', id='product-grid')\n",
    "\n",
    "#     # Targeting the <li> elements within the <ul> element\n",
    "#     li_elements = product_grid.find_all('li')\n",
    "\n",
    "#     # Extracting the links from the <li> elements and joining with the base URL\n",
    "#     base_url = 'https://watchcollectors.co.uk'  # Replace with the actual base URL\n",
    "#     all_product = [urljoin(base_url, li.find('a')['href']) for li in li_elements if li.find('a')]\n",
    "\n",
    "#     return all_product\n",
    "\n",
    "def products_links(url):\n",
    "    response = requests.get(url)\n",
    "    soup = BeautifulSoup(response.text, 'html.parser')\n",
    "\n",
    "    # Targeting the <ul> element with id \"product-grid\"\n",
    "    product_grid = soup.find('ul', id='product-grid')\n",
    "\n",
    "    # Targeting the <li> elements within the <ul> element\n",
    "    li_elements = product_grid.find_all('li')\n",
    "\n",
    "    # Extracting the links from the <li> elements and joining with the base URL\n",
    "    base_url = 'https://watchcollectors.co.uk'  # Replace with the actual base URL\n",
    "    all_product = [urljoin(base_url, li.find('a')['href']) for li in li_elements if li.find('a')]\n",
    "\n",
    "    return all_product\n",
    "\n",
    "def extract_all_product_links(base_url):\n",
    "    all_product_links = []\n",
    "\n",
    "    # Loop through pages (assuming there are 10 pages, you can modify the range accordingly)\n",
    "    for page_number in range(1, 35):\n",
    "        # Construct the URL for the current page\n",
    "        page_url = f'{base_url}?page={page_number}'\n",
    "        \n",
    "        # Call the products_links function for the current page\n",
    "        product_links_on_page = products_links(page_url)\n",
    "        \n",
    "        # Append the product links to the overall list\n",
    "        all_product_links.extend(product_links_on_page)\n",
    "\n",
    "    return all_product_links\n",
    "\n",
    "# Replace 'https://watchcollectors.co.uk/collections/all' with the actual base URL\n",
    "base_url = 'https://watchcollectors.co.uk/collections/all'\n",
    "all_product_links = extract_all_product_links(base_url)\n",
    "\n",
    "# Print the result\n",
    "print(all_product_links)\n"
   ]
  },
  {
   "cell_type": "code",
   "execution_count": 114,
   "metadata": {},
   "outputs": [
    {
     "data": {
      "text/plain": [
       "408"
      ]
     },
     "execution_count": 114,
     "metadata": {},
     "output_type": "execute_result"
    }
   ],
   "source": [
    "len(all_product_links)"
   ]
  },
  {
   "cell_type": "code",
   "execution_count": 115,
   "metadata": {},
   "outputs": [],
   "source": [
    "import warnings\n",
    "\n",
    "# Suppress FutureWarnings for :contains\n",
    "warnings.filterwarnings(\"ignore\", category=FutureWarning, module=\"soupsieve\")\n",
    "\n",
    "imgUrls=[];productName=[];Price=[];modelNumber=[];modelYear=[];Gender=[];Diameter=[]\n",
    "originalBox=[];originalPaper=[];productUrls=[]\n",
    "\n",
    "def Product_details(links):\n",
    "    c = 0\n",
    "    for i in links:\n",
    "\n",
    "        response = requests.get(i)\n",
    "        soup = BeautifulSoup(response.text, 'html.parser')\n",
    "        \n",
    "        try:\n",
    "            image_urls = [img['data-src'] for img in soup.select('.media img[data-src]')]\n",
    "            imgUrls.append(image_urls)\n",
    "        except:\n",
    "            imgUrls.append('')\n",
    "\n",
    "        productUrls.append(i)\n",
    "        \n",
    "        try:\n",
    "            product_title = soup.select_one('.product__title').get_text(strip=True)\n",
    "            productName.append(product_title)\n",
    "\n",
    "        except:\n",
    "            productName.append('')\n",
    "            \n",
    "        try:\n",
    "            price = soup.find('span', {'class': 'price-item--regular'}).text.strip()\n",
    "            print(price)\n",
    "            Price.append(price)\n",
    "        except:\n",
    "            Price.append('')\n",
    "\n",
    "        \n",
    "        try:\n",
    "            model_number = soup.find('td', string='Model Number').find_next('td').get_text(strip=True)\n",
    "            modelNumber.append(model_number)\n",
    "        except:\n",
    "            modelNumber.append('')\n",
    "    \n",
    "        try:\n",
    "            model_year = soup.find('td', string='Year').find_next('td').get_text(strip=True)\n",
    "            modelYear.append(model_year )\n",
    "        except:\n",
    "            modelYear.append('')\n",
    "    \n",
    "        try:\n",
    "            gender = soup.find('td', string='Gender').find_next('td').get_text(strip=True)\n",
    "            Gender.append(gender)\n",
    "        except:\n",
    "            Gender.append('')\n",
    "\n",
    "        try:\n",
    "            diameter = soup.find('td', string='Diameter (mm)').find_next('td').get_text(strip=True)\n",
    "            Diameter.append(diameter)\n",
    "        except:\n",
    "            Diameter.append('')\n",
    "\n",
    "        try:\n",
    "            original_box = soup.find('td', string='Original Box').find_next('td').get_text(strip=True)\n",
    "            originalBox.append(original_box)\n",
    "        except:\n",
    "            originalBox.append('')\n",
    "        \n",
    "        try:\n",
    "            original_papers = soup.find('td', string='Original Papers').find_next('td').get_text(strip=True)\n",
    "            originalPaper.append(original_papers)\n",
    "        except:\n",
    "            originalPaper.append('')\n",
    "        \n",
    "        c = c + 1\n",
    "        print(f\"Product {c} completed.\")\n",
    "\n",
    "        time.sleep(5)  # Sleep for 5 seconds between requests\n",
    "        \n",
    "        if c==15:\n",
    "            break\n",
    "        \n",
    "    # Writing to CSV file\n",
    "    with open('output.csv', 'w', encoding='utf-8', newline='') as file:\n",
    "        writer = csv.writer(file)\n",
    "        writer.writerow(['Image Urls', 'Product Name', 'Price', 'Model Number', 'Model Year', 'Gender', 'Diameter',\n",
    "                        'Original Box', 'Original Papers', 'Product Url'])\n",
    "\n",
    "        for i in range(len(productName)):\n",
    "            # Join image URLs into a single string separated by commas\n",
    "            img_urls_str = ', '.join(imgUrls[i])\n",
    "            writer.writerow([img_urls_str, productName[i], Price[i], modelNumber[i], modelYear[i], Gender[i],\n",
    "                            Diameter[i], originalBox[i], originalPaper[i], productUrls[i]])\n",
    "    return True"
   ]
  },
  {
   "cell_type": "code",
   "execution_count": 105,
   "metadata": {},
   "outputs": [
    {
     "name": "stdout",
     "output_type": "stream",
     "text": [
      "['https://watchcollectors.co.uk/products/choaprd', 'https://watchcollectors.co.uk/products/louis-vuitton-ref-tambour-xl-minute-repeater-travel-time-18k-rose-gold-box-papers', 'https://watchcollectors.co.uk/products/rolex-lady-datejust-pearlmaster-ref-69298-white-mother-of-pearl-diamond-dial-18k-yellow-gold', 'https://watchcollectors.co.uk/products/rolex-yacht-master-40-ref-126622-slate-dial-box-papers-2021-stainless-steel-platinum', 'https://watchcollectors.co.uk/products/audemars-piguet-royal-oak-chronograph-ref-26603st-oo-d002cr-01000-blue-dial-box-papers-2010-stainless-steel', 'https://watchcollectors.co.uk/products/rolex-daytona-ref-116520-black-dial-2012-box-papers-stainless-steel-1', 'https://watchcollectors.co.uk/products/rolex-daytona-beach-blue-ref-116509-18k-white-gold-2007', 'https://watchcollectors.co.uk/products/vacheron-constantin-malte-chronograph-ref-49180-champagne-dial-40mm-18k-rose-gold', 'https://watchcollectors.co.uk/products/cartier-tank-americaine-chronograph-ref-2892-automatic-31mm-18k-yellow-gold', 'https://watchcollectors.co.uk/products/cartier-tank-americaine-chronograph-ref-3072-automatic-31mm-18k-rose-gold', 'https://watchcollectors.co.uk/products/cartier-tank-americaine-ref-2927-automatic-31mm-18k-rose-gold', 'https://watchcollectors.co.uk/products/cartier-tank-americaine-chronograph-ref-3073-automatic-31mm-18k-white-gold']\n"
     ]
    }
   ],
   "source": [
    "# url = input(\"Enter Url: \")\n",
    "# all_links = products_links(url)\n",
    "\n",
    "# # Print the list of links\n",
    "# print(all_links)\n"
   ]
  },
  {
   "cell_type": "code",
   "execution_count": 116,
   "metadata": {},
   "outputs": [
    {
     "name": "stdout",
     "output_type": "stream",
     "text": [
      "£165,000.00\n",
      "Product 1 completed.\n",
      "£165,000.00\n",
      "Product 2 completed.\n",
      "£165,000.00\n",
      "Product 3 completed.\n",
      "£165,000.00\n",
      "Product 4 completed.\n",
      "£165,000.00\n",
      "Product 5 completed.\n",
      "£165,000.00\n",
      "Product 6 completed.\n",
      "£165,000.00\n",
      "Product 7 completed.\n",
      "£165,000.00\n",
      "Product 8 completed.\n",
      "£165,000.00\n",
      "Product 9 completed.\n",
      "£165,000.00\n",
      "Product 10 completed.\n",
      "£165,000.00\n",
      "Product 11 completed.\n",
      "£165,000.00\n",
      "Product 12 completed.\n",
      "£165,000.00\n",
      "Product 13 completed.\n",
      "£165,000.00\n",
      "Product 14 completed.\n",
      "£165,000.00\n",
      "Product 15 completed.\n"
     ]
    },
    {
     "data": {
      "text/plain": [
       "True"
      ]
     },
     "execution_count": 116,
     "metadata": {},
     "output_type": "execute_result"
    }
   ],
   "source": [
    "# Product_details(all_links)\n",
    "Product_details(all_product_links)"
   ]
  }
 ],
 "metadata": {
  "kernelspec": {
   "display_name": "Python 3",
   "language": "python",
   "name": "python3"
  },
  "language_info": {
   "codemirror_mode": {
    "name": "ipython",
    "version": 3
   },
   "file_extension": ".py",
   "mimetype": "text/x-python",
   "name": "python",
   "nbconvert_exporter": "python",
   "pygments_lexer": "ipython3",
   "version": "3.11.4"
  }
 },
 "nbformat": 4,
 "nbformat_minor": 2
}
