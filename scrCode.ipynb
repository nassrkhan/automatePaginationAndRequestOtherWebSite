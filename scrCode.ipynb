{
 "cells": [
  {
   "cell_type": "code",
   "execution_count": null,
   "metadata": {},
   "outputs": [],
   "source": [
    "pip install beautifulsoup4"
   ]
  },
  {
   "cell_type": "code",
   "execution_count": null,
   "metadata": {},
   "outputs": [],
   "source": [
    "pip install requests"
   ]
  },
  {
   "cell_type": "code",
   "execution_count": 9,
   "metadata": {},
   "outputs": [],
   "source": [
    "from bs4 import BeautifulSoup\n",
    "import requests\n",
    "from urllib.parse import urljoin\n",
    "\n",
    "def products_links(url):\n",
    "    response = requests.get(url)\n",
    "    soup = BeautifulSoup(response.text, 'html.parser')\n",
    "\n",
    "    # print(soup.prettify())\n",
    "\n",
    "    # Targeting the <ul> element with id \"product-grid\"\n",
    "    product_grid = soup.find('ul', id='product-grid')\n",
    "\n",
    "    # Targeting the <li> elements within the <ul> element\n",
    "    li_elements = product_grid.find_all('li')\n",
    "\n",
    "    # Extracting the links from the <li> elements and joining with the base URL\n",
    "    base_url = 'https://watchcollectors.co.uk'  # Replace with the actual base URL\n",
    "    all_product = [urljoin(base_url, li.find('a')['href']) for li in li_elements if li.find('a')]\n",
    "\n",
    "    return all_product"
   ]
  },
  {
   "cell_type": "code",
   "execution_count": 10,
   "metadata": {},
   "outputs": [],
   "source": [
    "imgUrls=[];productName=[];Price=[];modelNumber=[];modelYear=[];Gender=[];Diameter=[]\n",
    "originalBox=[];originalPaper=[];productUrls=[]\n",
    "\n",
    "def Product_details(links):\n",
    "    c = 0\n",
    "    for i in links:\n",
    "\n",
    "        response = requests.get(i)\n",
    "        soup = BeautifulSoup(response.text, 'html.parser')\n",
    "        \n",
    "        try:\n",
    "            # image_urls = [img['data-src'] for img in soup.select('.media img[data-src]')]\n",
    "            image_urls = [img['data-src'] for img in soup.select('.media img[data-src]')]\n",
    "            # Create clickable links and store them in a list\n",
    "            # clickable_links = []\n",
    "            # for url in image_urls:\n",
    "            #     clickable_link = f'<a href=\"{url}\" target=\"_blank\"><img src=\"{url}\" alt=\"Product Image\"></a>'\n",
    "            #     imgUrls.append(clickable_link)\n",
    "            # clickable_links = ['<a href=\"{}\" target=\"_blank\"><img src=\"{}\" alt=\"Product Image\"></a>'.format(url, url) for url in image_urls]\n",
    "            imgUrls.append(image_urls)\n",
    "        except:\n",
    "            imgUrls.append('')\n",
    "\n",
    "        productUrls.append(i)\n",
    "        \n",
    "        try:\n",
    "            product_name = soup.select_one('.card-information__text a').get_text(strip=True)\n",
    "            productName.append(product_name)\n",
    "        except:\n",
    "            productName.append('')\n",
    "            \n",
    "        try:\n",
    "            price = soup.select_one('.price-item--sale').get_text(strip=True)\n",
    "            Price.append(price)\n",
    "        except:\n",
    "            Price.append('')\n",
    "        \n",
    "        try:\n",
    "            \n",
    "            # Find the <td> element with the text \"Model Number\"\n",
    "            model_number_td = soup.find('td', string='Model Number')\n",
    "            # If the <td> element is found, extract the model number from the following <td>\n",
    "            if model_number_td:\n",
    "                model_number = model_number_td.find_next('td').get_text(strip=True)\n",
    "            modelNumber.append(model_number)\n",
    "        except:\n",
    "            modelNumber.append('')\n",
    "    \n",
    "        try:\n",
    "            model_year = soup.find('td', text='Year').find_next('td').get_text(strip=True)\n",
    "            modelYear.append(model_year )\n",
    "        except:\n",
    "            modelYear.append('')\n",
    "    \n",
    "        try:\n",
    "            gender = soup.find('td', text='Gender').find_next('td').get_text(strip=True)\n",
    "            Gender.append(gender)\n",
    "        except:\n",
    "            Gender.append('')\n",
    "\n",
    "        try:\n",
    "            diameter = soup.find('td', text='Diameter (mm)').find_next('td').get_text(strip=True)\n",
    "            Diameter.append(diameter)\n",
    "        except:\n",
    "            Diameter.append('')\n",
    "\n",
    "        try:\n",
    "            original_box = soup.find('td', text='Original Box').find_next('td').get_text(strip=True)\n",
    "            originalBox.append(original_box)\n",
    "        except:\n",
    "            originalBox.append('')\n",
    "        \n",
    "        try:\n",
    "            original_papers = soup.find('td', text='Original Papers').find_next('td').get_text(strip=True)\n",
    "            originalPaper.append(original_papers)\n",
    "        except:\n",
    "            originalPaper.append('')\n",
    "        \n",
    "        break\n",
    "        \n",
    "    #     c = c + 1\n",
    "    #     print(f\"Product {c} completed.\")\n",
    "    \n",
    "    # with open( file_name + '.csv', 'w', encoding='utf-8', newline='') as file:\n",
    "    #     writer = csv.writer(file)\n",
    "    #     writer.writerow(['Title','Title Url', 'Product Number', 'Short Description', 'Price', 'Image Url', 'Description'])\n",
    "        \n",
    "    #     for i in range(len(Title)):\n",
    "    #         writer.writerow([Title[i],Title_url[i], Product_number[i], Short_des[i], Price[i], Image_url[i], Description[i]])\n",
    "    \n",
    "    return True"
   ]
  },
  {
   "cell_type": "code",
   "execution_count": 11,
   "metadata": {},
   "outputs": [],
   "source": [
    "url = input(\"Enter Url: \")\n",
    "all_links = products_links(url)\n",
    "\n",
    "# Print the list of links\n",
    "print(all_links)\n"
   ]
  },
  {
   "cell_type": "code",
   "execution_count": 7,
   "metadata": {},
   "outputs": [
    {
     "name": "stderr",
     "output_type": "stream",
     "text": [
      "C:\\Users\\Fame\\AppData\\Local\\Temp\\ipykernel_7936\\4001877604.py:39: DeprecationWarning: The 'text' argument to find()-type methods is deprecated. Use 'string' instead.\n",
      "  model_year = soup.find('td', text='Year').find_next('td').get_text(strip=True)\n"
     ]
    },
    {
     "data": {
      "text/plain": [
       "True"
      ]
     },
     "execution_count": 7,
     "metadata": {},
     "output_type": "execute_result"
    }
   ],
   "source": [
    "Product_details(all_links)"
   ]
  },
  {
   "cell_type": "code",
   "execution_count": 5,
   "metadata": {},
   "outputs": [
    {
     "name": "stdout",
     "output_type": "stream",
     "text": [
      "[['//watchcollectors.co.uk/cdn/shop/files/Chopard18KRoseGoldSecondHandWatchCollectors1_533x.jpg?v=1702574924', '//watchcollectors.co.uk/cdn/shop/files/Chopard18KRoseGoldSecondHandWatchCollectors2_533x.jpg?v=1702574927', '//watchcollectors.co.uk/cdn/shop/files/LouisVuitton18KRoseGoldSecondhandWatchCollectors1_533x.jpg?v=1702471203', '//watchcollectors.co.uk/cdn/shop/files/LouisVuitton18KRoseGoldSecondhandWatchCollectors2_533x.jpg?v=1702571602', '//watchcollectors.co.uk/cdn/shop/files/Rolex18KYellowGoldPearlmastersecondHandWatchcollectors1_533x.jpg?v=1702471209', '//watchcollectors.co.uk/cdn/shop/files/Rolex18KYellowGoldPearlmastersecondHandWatchcollectors2_533x.jpg?v=1702471209', '//watchcollectors.co.uk/cdn/shop/products/AP_01_533x.jpg?v=1652702498', '//watchcollectors.co.uk/cdn/shop/products/AP_02_533x.jpg?v=1652702498']]\n",
      "['https://watchcollectors.co.uk/products/choaprd']\n",
      "['Chopard L.U.C 150 ALL-IN-ONE | REF. 161925-5001 | Limited to 15 Pieces | Tourbillon, Perpetual Calendar, Equation of TIme, Sunrise & Sunet, Moonphase & More | 18k Rose Gold | 46mm | Box & Papers | 2012']\n",
      "['£165,000.00']\n",
      "['161925-5001']\n",
      "['']\n",
      "['']\n",
      "['']\n",
      "['']\n",
      "['']\n"
     ]
    }
   ],
   "source": [
    "print(imgUrls)\n",
    "print(productUrls)\n",
    "print(productName)\n",
    "print(Price)\n",
    "print(modelNumber)\n",
    "print(modelYear)\n",
    "print(Gender)\n",
    "print(Diameter)\n",
    "print(originalBox)\n",
    "print(originalPaper)"
   ]
  }
 ],
 "metadata": {
  "kernelspec": {
   "display_name": "Python 3",
   "language": "python",
   "name": "python3"
  },
  "language_info": {
   "codemirror_mode": {
    "name": "ipython",
    "version": 3
   },
   "file_extension": ".py",
   "mimetype": "text/x-python",
   "name": "python",
   "nbconvert_exporter": "python",
   "pygments_lexer": "ipython3",
   "version": "3.11.4"
  }
 },
 "nbformat": 4,
 "nbformat_minor": 2
}
